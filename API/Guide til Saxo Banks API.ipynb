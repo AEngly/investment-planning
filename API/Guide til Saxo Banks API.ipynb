{
 "cells": [
  {
   "cell_type": "markdown",
   "id": "98b58de8",
   "metadata": {},
   "source": [
    "## <center> Guide til Saxo Banks API </center>"
   ]
  },
  {
   "cell_type": "markdown",
   "id": "628c99b0",
   "metadata": {},
   "source": [
    "Denne notebook gennemgår, hvordan Saxo Banks API-løsninger til bruges. I skal opdatere filen \"token.txt\" med en 24-timers token, som I kan finde her: https://www.developer.saxo/openapi/token/current"
   ]
  },
  {
   "cell_type": "markdown",
   "id": "04895509",
   "metadata": {},
   "source": [
    "### 1. Import"
   ]
  },
  {
   "cell_type": "code",
   "execution_count": 6,
   "id": "87b46d44",
   "metadata": {},
   "outputs": [],
   "source": [
    "import numpy as np\n",
    "import requests"
   ]
  },
  {
   "cell_type": "markdown",
   "id": "117558ef",
   "metadata": {},
   "source": [
    "### 2. Read tokens"
   ]
  },
  {
   "cell_type": "code",
   "execution_count": 8,
   "id": "d15f20de",
   "metadata": {},
   "outputs": [],
   "source": [
    "# Open the file in read mode\n",
    "with open('token.txt', 'r') as file:\n",
    "    TOKEN = file.read()  # Read entire file content"
   ]
  },
  {
   "cell_type": "markdown",
   "id": "cf414dac",
   "metadata": {},
   "source": [
    "### 3. Perform request to OpenAPI"
   ]
  },
  {
   "cell_type": "code",
   "execution_count": 23,
   "id": "fa268153",
   "metadata": {},
   "outputs": [],
   "source": [
    "\n",
    "\n",
    "# Define the API endpoint and token\n",
    "url = \"https://gateway.saxobank.com/sim/openapi/port/v1/accounts/me\"\n",
    "headers = {\n",
    "    \"Authorization\": f\"Bearer {TOKEN}\"\n",
    "}\n",
    "\n",
    "# Make the GET request\n",
    "response = requests.get(url, headers=headers)\n",
    "\n",
    "# Check the response\n",
    "if response.status_code == 200:\n",
    "    response = response.json()['Data'][0]\n",
    "else:\n",
    "    print(f\"Error: {response.status_code}, {response.text}\")"
   ]
  }
 ],
 "metadata": {
  "kernelspec": {
   "display_name": "Python 3 (ipykernel)",
   "language": "python",
   "name": "python3"
  },
  "language_info": {
   "codemirror_mode": {
    "name": "ipython",
    "version": 3
   },
   "file_extension": ".py",
   "mimetype": "text/x-python",
   "name": "python",
   "nbconvert_exporter": "python",
   "pygments_lexer": "ipython3",
   "version": "3.9.12"
  }
 },
 "nbformat": 4,
 "nbformat_minor": 5
}
