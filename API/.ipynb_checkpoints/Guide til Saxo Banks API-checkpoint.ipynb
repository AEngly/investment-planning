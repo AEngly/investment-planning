{
 "cells": [
  {
   "cell_type": "markdown",
   "id": "98b58de8",
   "metadata": {},
   "source": [
    "## <center> Guide til Saxo Banks API </center>"
   ]
  },
  {
   "cell_type": "markdown",
   "id": "628c99b0",
   "metadata": {},
   "source": [
    "Denne notebook gennemgår, hvordan Saxo Banks API-løsninger til bruges."
   ]
  },
  {
   "cell_type": "markdown",
   "id": "04895509",
   "metadata": {},
   "source": [
    "### 1. Import"
   ]
  },
  {
   "cell_type": "code",
   "execution_count": null,
   "id": "8b25017e",
   "metadata": {},
   "outputs": [],
   "source": []
  }
 ],
 "metadata": {
  "kernelspec": {
   "display_name": "Python 3 (ipykernel)",
   "language": "python",
   "name": "python3"
  },
  "language_info": {
   "codemirror_mode": {
    "name": "ipython",
    "version": 3
   },
   "file_extension": ".py",
   "mimetype": "text/x-python",
   "name": "python",
   "nbconvert_exporter": "python",
   "pygments_lexer": "ipython3",
   "version": "3.9.12"
  }
 },
 "nbformat": 4,
 "nbformat_minor": 5
}
